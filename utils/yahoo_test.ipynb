{
 "cells": [
  {
   "cell_type": "code",
   "execution_count": 1,
   "metadata": {},
   "outputs": [],
   "source": [
    "import pandas as pd\n",
    "import yfinance as yf"
   ]
  },
  {
   "cell_type": "code",
   "execution_count": 4,
   "metadata": {},
   "outputs": [],
   "source": [
    "ticker = yf.Ticker(\"AAPL\")"
   ]
  },
  {
   "cell_type": "code",
   "execution_count": 8,
   "metadata": {},
   "outputs": [
    {
     "data": {
      "text/plain": [
       "{'regularMarketPrice': None, 'preMarketPrice': None, 'logo_url': ''}"
      ]
     },
     "metadata": {},
     "output_type": "display_data"
    }
   ],
   "source": [
    "display(ticker.info)"
   ]
  },
  {
   "cell_type": "code",
   "execution_count": 15,
   "metadata": {},
   "outputs": [
    {
     "name": "stdout",
     "output_type": "stream",
     "text": [
      "[*********************100%***********************]  1 of 1 completed\n",
      "[*********************100%***********************]  1 of 1 completed\n"
     ]
    }
   ],
   "source": [
    "data1 = yf.download(tickers='AAPL', period='12mo', interval='1d')\n",
    "data2 = yf.download(tickers='BTC-USD', period='12mo', interval='1d')"
   ]
  },
  {
   "cell_type": "code",
   "execution_count": 17,
   "metadata": {},
   "outputs": [
    {
     "data": {
      "text/html": [
       "<div>\n",
       "<style scoped>\n",
       "    .dataframe tbody tr th:only-of-type {\n",
       "        vertical-align: middle;\n",
       "    }\n",
       "\n",
       "    .dataframe tbody tr th {\n",
       "        vertical-align: top;\n",
       "    }\n",
       "\n",
       "    .dataframe thead th {\n",
       "        text-align: right;\n",
       "    }\n",
       "</style>\n",
       "<table border=\"1\" class=\"dataframe\">\n",
       "  <thead>\n",
       "    <tr style=\"text-align: right;\">\n",
       "      <th></th>\n",
       "      <th>Open</th>\n",
       "      <th>High</th>\n",
       "      <th>Low</th>\n",
       "      <th>Close</th>\n",
       "      <th>Adj Close</th>\n",
       "      <th>Volume</th>\n",
       "    </tr>\n",
       "    <tr>\n",
       "      <th>Date</th>\n",
       "      <th></th>\n",
       "      <th></th>\n",
       "      <th></th>\n",
       "      <th></th>\n",
       "      <th></th>\n",
       "      <th></th>\n",
       "    </tr>\n",
       "  </thead>\n",
       "  <tbody>\n",
       "    <tr>\n",
       "      <th>2022-01-25</th>\n",
       "      <td>36654.804688</td>\n",
       "      <td>37444.570312</td>\n",
       "      <td>35779.429688</td>\n",
       "      <td>36954.003906</td>\n",
       "      <td>36954.003906</td>\n",
       "      <td>26428189594</td>\n",
       "    </tr>\n",
       "    <tr>\n",
       "      <th>2022-01-26</th>\n",
       "      <td>36950.515625</td>\n",
       "      <td>38825.410156</td>\n",
       "      <td>36374.906250</td>\n",
       "      <td>36852.121094</td>\n",
       "      <td>36852.121094</td>\n",
       "      <td>31324598034</td>\n",
       "    </tr>\n",
       "    <tr>\n",
       "      <th>2022-01-27</th>\n",
       "      <td>36841.878906</td>\n",
       "      <td>37148.324219</td>\n",
       "      <td>35629.281250</td>\n",
       "      <td>37138.234375</td>\n",
       "      <td>37138.234375</td>\n",
       "      <td>25041426629</td>\n",
       "    </tr>\n",
       "    <tr>\n",
       "      <th>2022-01-28</th>\n",
       "      <td>37128.445312</td>\n",
       "      <td>37952.878906</td>\n",
       "      <td>36211.109375</td>\n",
       "      <td>37784.332031</td>\n",
       "      <td>37784.332031</td>\n",
       "      <td>22238830523</td>\n",
       "    </tr>\n",
       "    <tr>\n",
       "      <th>2022-01-29</th>\n",
       "      <td>37780.714844</td>\n",
       "      <td>38576.261719</td>\n",
       "      <td>37406.472656</td>\n",
       "      <td>38138.179688</td>\n",
       "      <td>38138.179688</td>\n",
       "      <td>17194183075</td>\n",
       "    </tr>\n",
       "    <tr>\n",
       "      <th>...</th>\n",
       "      <td>...</td>\n",
       "      <td>...</td>\n",
       "      <td>...</td>\n",
       "      <td>...</td>\n",
       "      <td>...</td>\n",
       "      <td>...</td>\n",
       "    </tr>\n",
       "    <tr>\n",
       "      <th>2023-01-21</th>\n",
       "      <td>22677.427734</td>\n",
       "      <td>23282.347656</td>\n",
       "      <td>22511.833984</td>\n",
       "      <td>22777.625000</td>\n",
       "      <td>22777.625000</td>\n",
       "      <td>32442278429</td>\n",
       "    </tr>\n",
       "    <tr>\n",
       "      <th>2023-01-22</th>\n",
       "      <td>22777.986328</td>\n",
       "      <td>23056.730469</td>\n",
       "      <td>22387.900391</td>\n",
       "      <td>22720.416016</td>\n",
       "      <td>22720.416016</td>\n",
       "      <td>24746386230</td>\n",
       "    </tr>\n",
       "    <tr>\n",
       "      <th>2023-01-23</th>\n",
       "      <td>22721.087891</td>\n",
       "      <td>23126.486328</td>\n",
       "      <td>22654.304688</td>\n",
       "      <td>22934.431641</td>\n",
       "      <td>22934.431641</td>\n",
       "      <td>26518700512</td>\n",
       "    </tr>\n",
       "    <tr>\n",
       "      <th>2023-01-24</th>\n",
       "      <td>22929.626953</td>\n",
       "      <td>23134.011719</td>\n",
       "      <td>22549.744141</td>\n",
       "      <td>22636.468750</td>\n",
       "      <td>22636.468750</td>\n",
       "      <td>26405069715</td>\n",
       "    </tr>\n",
       "    <tr>\n",
       "      <th>2023-01-25</th>\n",
       "      <td>22664.750000</td>\n",
       "      <td>22908.677734</td>\n",
       "      <td>22410.406250</td>\n",
       "      <td>22908.519531</td>\n",
       "      <td>22908.519531</td>\n",
       "      <td>27211298816</td>\n",
       "    </tr>\n",
       "  </tbody>\n",
       "</table>\n",
       "<p>366 rows × 6 columns</p>\n",
       "</div>"
      ],
      "text/plain": [
       "                    Open          High           Low         Close  \\\n",
       "Date                                                                 \n",
       "2022-01-25  36654.804688  37444.570312  35779.429688  36954.003906   \n",
       "2022-01-26  36950.515625  38825.410156  36374.906250  36852.121094   \n",
       "2022-01-27  36841.878906  37148.324219  35629.281250  37138.234375   \n",
       "2022-01-28  37128.445312  37952.878906  36211.109375  37784.332031   \n",
       "2022-01-29  37780.714844  38576.261719  37406.472656  38138.179688   \n",
       "...                  ...           ...           ...           ...   \n",
       "2023-01-21  22677.427734  23282.347656  22511.833984  22777.625000   \n",
       "2023-01-22  22777.986328  23056.730469  22387.900391  22720.416016   \n",
       "2023-01-23  22721.087891  23126.486328  22654.304688  22934.431641   \n",
       "2023-01-24  22929.626953  23134.011719  22549.744141  22636.468750   \n",
       "2023-01-25  22664.750000  22908.677734  22410.406250  22908.519531   \n",
       "\n",
       "               Adj Close       Volume  \n",
       "Date                                   \n",
       "2022-01-25  36954.003906  26428189594  \n",
       "2022-01-26  36852.121094  31324598034  \n",
       "2022-01-27  37138.234375  25041426629  \n",
       "2022-01-28  37784.332031  22238830523  \n",
       "2022-01-29  38138.179688  17194183075  \n",
       "...                  ...          ...  \n",
       "2023-01-21  22777.625000  32442278429  \n",
       "2023-01-22  22720.416016  24746386230  \n",
       "2023-01-23  22934.431641  26518700512  \n",
       "2023-01-24  22636.468750  26405069715  \n",
       "2023-01-25  22908.519531  27211298816  \n",
       "\n",
       "[366 rows x 6 columns]"
      ]
     },
     "execution_count": 17,
     "metadata": {},
     "output_type": "execute_result"
    }
   ],
   "source": [
    "data2"
   ]
  },
  {
   "cell_type": "code",
   "execution_count": null,
   "metadata": {},
   "outputs": [],
   "source": []
  }
 ],
 "metadata": {
  "kernelspec": {
   "display_name": "base",
   "language": "python",
   "name": "python3"
  },
  "language_info": {
   "codemirror_mode": {
    "name": "ipython",
    "version": 3
   },
   "file_extension": ".py",
   "mimetype": "text/x-python",
   "name": "python",
   "nbconvert_exporter": "python",
   "pygments_lexer": "ipython3",
   "version": "3.9.12"
  },
  "orig_nbformat": 4,
  "vscode": {
   "interpreter": {
    "hash": "554e2dd88461d1ca51e8ad93a2f894095745ac509719a8a92f0986b2e50bcce4"
   }
  }
 },
 "nbformat": 4,
 "nbformat_minor": 2
}
